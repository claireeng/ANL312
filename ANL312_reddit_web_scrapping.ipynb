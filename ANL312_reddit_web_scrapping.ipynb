{
 "cells": [
  {
   "cell_type": "markdown",
   "metadata": {},
   "source": [
    "# Scrapping data from Reddit\n",
    "\n",
    "Date of Scrape: 27 Oct 2021\n",
    "\n",
    "Subreddit: /r/singapore <br>\n",
    "Search \"endemic\"; Sort by relevance; Filter by posts created this year <br>\n",
    "Using Python Reddit API Wrapper (PRAW)\n",
    "\n",
    "Data collected: 12,852 records (99 posts)"
   ]
  },
  {
   "cell_type": "code",
   "execution_count": 1,
   "metadata": {},
   "outputs": [],
   "source": [
    "# Load packages\n",
    "import pandas as pd\n",
    "import praw\n",
    "from time import sleep \n",
    "from random import randint"
   ]
  },
  {
   "cell_type": "code",
   "execution_count": 2,
   "metadata": {},
   "outputs": [],
   "source": [
    "# Set up Reddit connection \n",
    "reddit = praw.Reddit(client_id = 'KU8WgkKmgXp5yblmJa4Y2g',\n",
    "                    client_secret = 'zjtuJKK_ENxDBdx4gV97G_vD-Oy2nA',\n",
    "                    user_agent = 'anl312 webscrapping')"
   ]
  },
  {
   "cell_type": "code",
   "execution_count": 3,
   "metadata": {},
   "outputs": [],
   "source": [
    "# Specify subreddit = 'singapore'\n",
    "subreddit = reddit.subreddit('singapore')\n",
    "\n",
    "# Specify search keyword = 'endemic'; Sort by relevance; Filter by posts created this year\n",
    "reddit_search = subreddit.search('endemic', sort='relevance', time_filter='year')"
   ]
  },
  {
   "cell_type": "code",
   "execution_count": 4,
   "metadata": {},
   "outputs": [],
   "source": [
    "# Create a dictionary to store data\n",
    "posts_dict = {'title': [],'body': [], 'comment': [], 'comment_date': []}"
   ]
  },
  {
   "cell_type": "code",
   "execution_count": 5,
   "metadata": {},
   "outputs": [],
   "source": [
    "for post in reddit_search:\n",
    "\n",
    "    # Obtain all comments in a post\n",
    "    post.comments.replace_more(limit=None)\n",
    "    # Output all level comments\n",
    "    comments = post.comments.list()\n",
    "\n",
    "    # Append comments into dictionary\n",
    "    for comment in comments:\n",
    "        posts_dict[\"title\"].append(post.title)\n",
    "        posts_dict[\"body\"].append(post.selftext)\n",
    "        posts_dict[\"comment\"].append(comment.body)\n",
    "        posts_dict[\"comment_date\"].append(comment.created)\n",
    "\n",
    "    # Add delay in program execution\n",
    "    sleep(randint(1,4))        "
   ]
  },
  {
   "cell_type": "code",
   "execution_count": 6,
   "metadata": {},
   "outputs": [
    {
     "data": {
      "text/html": [
       "<div>\n",
       "<style scoped>\n",
       "    .dataframe tbody tr th:only-of-type {\n",
       "        vertical-align: middle;\n",
       "    }\n",
       "\n",
       "    .dataframe tbody tr th {\n",
       "        vertical-align: top;\n",
       "    }\n",
       "\n",
       "    .dataframe thead th {\n",
       "        text-align: right;\n",
       "    }\n",
       "</style>\n",
       "<table border=\"1\" class=\"dataframe\">\n",
       "  <thead>\n",
       "    <tr style=\"text-align: right;\">\n",
       "      <th></th>\n",
       "      <th>title</th>\n",
       "      <th>body</th>\n",
       "      <th>comment</th>\n",
       "      <th>comment_date</th>\n",
       "    </tr>\n",
       "  </thead>\n",
       "  <tbody>\n",
       "    <tr>\n",
       "      <th>0</th>\n",
       "      <td>To all the angry posts: I don't think people h...</td>\n",
       "      <td>this sub is very largely consisting of only yo...</td>\n",
       "      <td>OP has flaired the post with the \"Serious Disc...</td>\n",
       "      <td>1.632548e+09</td>\n",
       "    </tr>\n",
       "    <tr>\n",
       "      <th>1</th>\n",
       "      <td>To all the angry posts: I don't think people h...</td>\n",
       "      <td>this sub is very largely consisting of only yo...</td>\n",
       "      <td>I'll just say my stance and eat the downvotes ...</td>\n",
       "      <td>1.632554e+09</td>\n",
       "    </tr>\n",
       "    <tr>\n",
       "      <th>2</th>\n",
       "      <td>To all the angry posts: I don't think people h...</td>\n",
       "      <td>this sub is very largely consisting of only yo...</td>\n",
       "      <td>IPS should do a survey about this endemic vs c...</td>\n",
       "      <td>1.632549e+09</td>\n",
       "    </tr>\n",
       "    <tr>\n",
       "      <th>3</th>\n",
       "      <td>To all the angry posts: I don't think people h...</td>\n",
       "      <td>this sub is very largely consisting of only yo...</td>\n",
       "      <td>Big divide in opinions aside, MTF messed up by...</td>\n",
       "      <td>1.632550e+09</td>\n",
       "    </tr>\n",
       "    <tr>\n",
       "      <th>4</th>\n",
       "      <td>To all the angry posts: I don't think people h...</td>\n",
       "      <td>this sub is very largely consisting of only yo...</td>\n",
       "      <td>i think right now what a lot of people are ang...</td>\n",
       "      <td>1.632548e+09</td>\n",
       "    </tr>\n",
       "  </tbody>\n",
       "</table>\n",
       "</div>"
      ],
      "text/plain": [
       "                                               title  \\\n",
       "0  To all the angry posts: I don't think people h...   \n",
       "1  To all the angry posts: I don't think people h...   \n",
       "2  To all the angry posts: I don't think people h...   \n",
       "3  To all the angry posts: I don't think people h...   \n",
       "4  To all the angry posts: I don't think people h...   \n",
       "\n",
       "                                                body  \\\n",
       "0  this sub is very largely consisting of only yo...   \n",
       "1  this sub is very largely consisting of only yo...   \n",
       "2  this sub is very largely consisting of only yo...   \n",
       "3  this sub is very largely consisting of only yo...   \n",
       "4  this sub is very largely consisting of only yo...   \n",
       "\n",
       "                                             comment  comment_date  \n",
       "0  OP has flaired the post with the \"Serious Disc...  1.632548e+09  \n",
       "1  I'll just say my stance and eat the downvotes ...  1.632554e+09  \n",
       "2  IPS should do a survey about this endemic vs c...  1.632549e+09  \n",
       "3  Big divide in opinions aside, MTF messed up by...  1.632550e+09  \n",
       "4  i think right now what a lot of people are ang...  1.632548e+09  "
      ]
     },
     "execution_count": 6,
     "metadata": {},
     "output_type": "execute_result"
    }
   ],
   "source": [
    "# Convert dictionary to dataframe\n",
    "posts_df = pd.DataFrame(posts_dict)\n",
    "posts_df.head()"
   ]
  },
  {
   "cell_type": "code",
   "execution_count": 7,
   "metadata": {},
   "outputs": [
    {
     "data": {
      "text/html": [
       "<div>\n",
       "<style scoped>\n",
       "    .dataframe tbody tr th:only-of-type {\n",
       "        vertical-align: middle;\n",
       "    }\n",
       "\n",
       "    .dataframe tbody tr th {\n",
       "        vertical-align: top;\n",
       "    }\n",
       "\n",
       "    .dataframe thead th {\n",
       "        text-align: right;\n",
       "    }\n",
       "</style>\n",
       "<table border=\"1\" class=\"dataframe\">\n",
       "  <thead>\n",
       "    <tr style=\"text-align: right;\">\n",
       "      <th></th>\n",
       "      <th>title</th>\n",
       "      <th>body</th>\n",
       "      <th>comment</th>\n",
       "      <th>comment_date</th>\n",
       "    </tr>\n",
       "  </thead>\n",
       "  <tbody>\n",
       "    <tr>\n",
       "      <th>0</th>\n",
       "      <td>To all the angry posts: I don't think people h...</td>\n",
       "      <td>this sub is very largely consisting of only yo...</td>\n",
       "      <td>OP has flaired the post with the \"Serious Disc...</td>\n",
       "      <td>2021-09-25 05:26:19</td>\n",
       "    </tr>\n",
       "    <tr>\n",
       "      <th>1</th>\n",
       "      <td>To all the angry posts: I don't think people h...</td>\n",
       "      <td>this sub is very largely consisting of only yo...</td>\n",
       "      <td>I'll just say my stance and eat the downvotes ...</td>\n",
       "      <td>2021-09-25 07:20:05</td>\n",
       "    </tr>\n",
       "    <tr>\n",
       "      <th>2</th>\n",
       "      <td>To all the angry posts: I don't think people h...</td>\n",
       "      <td>this sub is very largely consisting of only yo...</td>\n",
       "      <td>IPS should do a survey about this endemic vs c...</td>\n",
       "      <td>2021-09-25 05:49:55</td>\n",
       "    </tr>\n",
       "    <tr>\n",
       "      <th>3</th>\n",
       "      <td>To all the angry posts: I don't think people h...</td>\n",
       "      <td>this sub is very largely consisting of only yo...</td>\n",
       "      <td>Big divide in opinions aside, MTF messed up by...</td>\n",
       "      <td>2021-09-25 05:58:45</td>\n",
       "    </tr>\n",
       "    <tr>\n",
       "      <th>4</th>\n",
       "      <td>To all the angry posts: I don't think people h...</td>\n",
       "      <td>this sub is very largely consisting of only yo...</td>\n",
       "      <td>i think right now what a lot of people are ang...</td>\n",
       "      <td>2021-09-25 05:32:16</td>\n",
       "    </tr>\n",
       "  </tbody>\n",
       "</table>\n",
       "</div>"
      ],
      "text/plain": [
       "                                               title  \\\n",
       "0  To all the angry posts: I don't think people h...   \n",
       "1  To all the angry posts: I don't think people h...   \n",
       "2  To all the angry posts: I don't think people h...   \n",
       "3  To all the angry posts: I don't think people h...   \n",
       "4  To all the angry posts: I don't think people h...   \n",
       "\n",
       "                                                body  \\\n",
       "0  this sub is very largely consisting of only yo...   \n",
       "1  this sub is very largely consisting of only yo...   \n",
       "2  this sub is very largely consisting of only yo...   \n",
       "3  this sub is very largely consisting of only yo...   \n",
       "4  this sub is very largely consisting of only yo...   \n",
       "\n",
       "                                             comment        comment_date  \n",
       "0  OP has flaired the post with the \"Serious Disc... 2021-09-25 05:26:19  \n",
       "1  I'll just say my stance and eat the downvotes ... 2021-09-25 07:20:05  \n",
       "2  IPS should do a survey about this endemic vs c... 2021-09-25 05:49:55  \n",
       "3  Big divide in opinions aside, MTF messed up by... 2021-09-25 05:58:45  \n",
       "4  i think right now what a lot of people are ang... 2021-09-25 05:32:16  "
      ]
     },
     "execution_count": 7,
     "metadata": {},
     "output_type": "execute_result"
    }
   ],
   "source": [
    "# Convert comment_date from unix time to datetime\n",
    "posts_df['comment_date'] = pd.to_datetime(posts_df['comment_date'], unit='s')\n",
    "posts_df.head()"
   ]
  },
  {
   "cell_type": "code",
   "execution_count": 8,
   "metadata": {},
   "outputs": [
    {
     "name": "stdout",
     "output_type": "stream",
     "text": [
      "Number of posts = 99\n",
      "Number of comments = 12852\n"
     ]
    }
   ],
   "source": [
    "print(f\"Number of posts = {len(posts_df['title'].unique())}\")\n",
    "# count of row\n",
    "print(f'Number of comments = {posts_df.shape[0]}')"
   ]
  },
  {
   "cell_type": "code",
   "execution_count": 9,
   "metadata": {},
   "outputs": [],
   "source": [
    "# Export to csv\n",
    "posts_df.to_csv('./dataset/reddit_scrape.csv', index=False)"
   ]
  }
 ],
 "metadata": {
  "kernelspec": {
   "display_name": "Python 3 (ipykernel)",
   "language": "python",
   "name": "python3"
  },
  "language_info": {
   "codemirror_mode": {
    "name": "ipython",
    "version": 3
   },
   "file_extension": ".py",
   "mimetype": "text/x-python",
   "name": "python",
   "nbconvert_exporter": "python",
   "pygments_lexer": "ipython3",
   "version": "3.7.4"
  }
 },
 "nbformat": 4,
 "nbformat_minor": 2
}
